{
 "cells": [
  {
   "cell_type": "code",
   "execution_count": null,
   "metadata": {},
   "outputs": [],
   "source": [
    "# Databricks Structured Streaming Study Note\n",
    "\n",
    "# Import necessary libraries\n",
    "from pyspark.sql import SparkSession\n",
    "from pyspark.sql.functions import *\n",
    "\n",
    "# Create a Spark session\n",
    "spark = SparkSession.builder \\\n",
    "    .appName(\"Structured Streaming Example\") \\\n",
    "    .getOrCreate()\n",
    "\n",
    "# Display Spark version\n",
    "print(\"Spark Version:\", spark.version)\n",
    "\n",
    "\n",
    "schema = \"key STRING, value STRING\"\n",
    "\n",
    "\n",
    "lines = spark.readStream \\\n",
    "    .schema(schema) \\\n",
    "    .option(\"sep\", \",\") \\\n",
    "    .csv(\"path/to/your/csv/source\")  # Replace with actual source\n",
    "\n",
    "# Split the lines into words\n",
    "words = lines.select(\n",
    "    explode(split(lines.value, \" \")).alias(\"word\")\n",
    ")\n",
    "\n",
    "\n",
    "wordCounts = words.groupBy(\"word\").count()\n",
    "\n",
    "\n",
    "query = wordCounts.writeStream \\\n",
    "    .outputMode(\"complete\") \\\n",
    "    .format(\"console\") \\\n",
    "    .start()\n",
    "\n",
    "# Await termination of the query\n",
    "query.awaitTermination()\n"
   ]
  }
 ],
 "metadata": {
  "kernelspec": {
   "display_name": "Python 3",
   "language": "python",
   "name": "python3"
  },
  "language_info": {
   "codemirror_mode": {
    "name": "ipython",
    "version": 3
   },
   "file_extension": ".py",
   "mimetype": "text/x-python",
   "name": "python",
   "nbconvert_exporter": "python",
   "pygments_lexer": "ipython3",
   "version": "3.8.5"
  }
 },
 "nbformat": 4,
 "nbformat_minor": 4
}
